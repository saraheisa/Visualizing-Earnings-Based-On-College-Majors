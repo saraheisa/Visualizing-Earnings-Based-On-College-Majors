{
 "cells": [
  {
   "cell_type": "markdown",
   "metadata": {},
   "source": [
    "# Visualizing Earnings Based On College Majors\n",
    "\n",
    "In this project I worked with a dataset on the job outcomes of students who graduated from college between 2010 and 2012.\n",
    "\n",
    "The original data on job outcomes was released by [American Community Survey](https://www.census.gov/programs-surveys/acs/), which conducts surveys and aggregates the data. FiveThirtyEight cleaned the dataset and released it on their [Github repo](https://github.com/fivethirtyeight/data/tree/master/college-majors).\n",
    "\n",
    "### Using visualizations, I have explored questions from the dataset like:\n",
    "\n",
    "- Do students in more popular majors make more money?\n",
    "    - Using scatter plots\n",
    "- How many majors are predominantly male? Predominantly female?\n",
    "    - Using histograms\n",
    "- Which category of majors have the most students?\n",
    "    - Using bar plots"
   ]
  },
  {
   "cell_type": "code",
   "execution_count": null,
   "metadata": {},
   "outputs": [],
   "source": []
  }
 ],
 "metadata": {
  "kernelspec": {
   "display_name": "Python 3",
   "language": "python",
   "name": "python3"
  },
  "language_info": {
   "codemirror_mode": {
    "name": "ipython",
    "version": 3
   },
   "file_extension": ".py",
   "mimetype": "text/x-python",
   "name": "python",
   "nbconvert_exporter": "python",
   "pygments_lexer": "ipython3",
   "version": "3.7.0"
  }
 },
 "nbformat": 4,
 "nbformat_minor": 2
}
